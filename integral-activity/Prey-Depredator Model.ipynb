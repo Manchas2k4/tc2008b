{
 "cells": [
  {
   "cell_type": "markdown",
   "id": "74e289fb",
   "metadata": {},
   "source": [
    "# Modelo Presa-Depredador"
   ]
  },
  {
   "cell_type": "markdown",
   "id": "650e0039",
   "metadata": {},
   "source": [
    "## Introducción\n",
    "En ecología, la depredación es un tipo de interacción biológica en la que el individuo de una especie animal, denominado depredador, caza al individuo de otra especie, la presa, para subsistir. Un mismo individuo puede ser depredador de algunos animales y a su vez presa de otros, aunque en todos los casos el predador es carnívoro u omnívoro. Esta interacción ocupa un rol importante en la selección natural.\n",
    "\n",
    "Los modelos matemáticos de depredación se encuentran entre los más antiguos de la ecología. Uno de los primeros fue propuesto por Thomas Robert Malthus (1766-1834), quien planteó un modelo unidimensional sobre la población humana. En su obra \"An Essay on the Principle of Population as It Afects the Future Improvements of Society\" (Malthus, 1809) intentó mostrar que \"el crecimiento de la población humana sería más rápido que la producción de sustento y que no se alcanzaba esta situación debido a otros factores que frenaban el crecimiento natural de los humanos\" (Oganician, 2017). Después de que el modelo unidimensional presentado por Malthus resultará ser uno de los más sencillos, dado que solo consideraba nacimientos y muertes, el biológo y matemático P.F. Verhulst logro mejorar el modelo de Malthus presentando el modelo logístico, en donde se tenía en cuenta la interacción de los individuos mediante una probabilidad de encuentro entre estos (García Montoya et al., 2019)."
   ]
  },
  {
   "cell_type": "markdown",
   "id": "0c2d636e",
   "metadata": {},
   "source": [
    "## Descripción\n",
    "\n",
    "En esta actividad, diseñaremos un modelo presa-depredador que nos muestre la interacción entre tres especies. \n",
    "\n",
    "Cenitune, es un curioso exoplaneta de forma rectangular que se encuentra a más 4 millones años luz de la tierra. Este planeta es el sueño dorado de cualquier exobiólogo ya que cuenta con un ecosistema muy pequeño, pero no por ello simple. \n",
    "\n",
    "Toda la superficie de Cenitune se encuentra cubierta por una única especie de hierba. Esta hierba es el alimento de una raza llamada nonine. Los nonine son hervíboros pequeños que se pasan la vida muy felices comiendo y reprociendose. Bueno, la mayor parte del tiempo, ya que tiene que cuidarse de los deddian. Los deddian son los único carnívoros de Cenitune y su único alimento son los nonine.\n",
    "\n",
    "### Reglas generales del modelo\n",
    "* Dos nonine no pueden ocupar la misma sección.\n",
    "* Dos deddian no pueden ocupar la misma sección.\n",
    "* Cada nonine solo puede comer hierba si no ha llegado a su máxima capacidad de comida.\n",
    "* Un deddian no se comerá un nonine si ha sobrepasado su capacidad máxima de comida.\n",
    "* Nonines y deddians solo puede reproducirse cuando han llegado a cierta edad y ha logrado una cierta capacidad de cimida.\n",
    "* Un nonine no puede reproducirse si hay un deddian a su alrededor.\n",
    "* Nonines y deddians solo pueden mover hacia arriba, abajo, izquierda o derecha de su posición actual.\n",
    "* Nonines y deddians mueren si son muy viejos o si no han comido lo suficiente.\n",
    "* La hierba tiene una tasa de crecimiento de 1 unidad/ciclo.\n",
    "\n",
    "### Reglas para los nonine\n",
    "* Capacidad máxima de comida: 45 unidades.\n",
    "* Tasa de metabolismo: 3 unidades/ciclo.\n",
    "* Probilidad de reproducción en un ambiente adecuada: 50%\n",
    "* Edad mínima de reproducción: 10 ciclos.\n",
    "* Requisito mínimo de alimento para reproducirse: 40 unidades.\n",
    "* Edad máxima: 25 etapas.\n",
    "* Comida inicial: 10\n",
    "* Un nonine le da un valor de comida de 10 a un deddian cuando se lo come.\n",
    "\n",
    "En cada ciclo, \n",
    "* Un nonine se mueve aleatoriamente a uno de los cuatro campos vecinos, siempre que esté vacío (no existe otro nonine o deddian). Este movimiento le consume una cierta cantidad de la comida que ha ingerido. Si no hay celdas vecinas libres, no se produce movimiento.  \n",
    "* Si no ha llegado a su capacidad máxima de comida, consumirá toda lo que hay en ese campo (hasta el límite definido). \n",
    "* Al superar su tiempo de reproducción predefidino, el nonine dará a a luz un nuevo nonine siempre y cuando tenga la energía necesaria y esté en un ambiente adecuado. El nuevo nonine se deberá generar en una celda vecina vacía. Si no se cumple alguno de estos requisitos, no se generará ningún nuevo nonine.\n",
    "\n",
    "### Reglas para los deddian\n",
    "* Capacidad máxima de comida: 200 unidades.\n",
    "* Tasa de metabolismo: 2 unidades/ciclo.\n",
    "* Probilidad de reproducción en un ambiente adecuada: 50%\n",
    "* Edad mínima de reproducción: 10 ciclos.\n",
    "* Requisito mínimo de alimento para reproducirse: 120 unidades.\n",
    "* Edad máxima: 50 etapas.\n",
    "* Comida inicial: 150\n",
    "\n",
    "En cada ciclo, \n",
    "* Un deddian se mueve aleatoriamente a uno de los cuatro campos vecinos, siempre que no haya otro deddian. Este movimiento le consume una cierta cantidad de la comida que ha ingerido. Si no hay celdas vecinas libres de deddians, no se produce movimiento.  \n",
    "* Si se encuentra con un nonine y no ha sobrepasado su capacidad máxima, se lo comerá. Obteniendo una cantidad de energía definida.\n",
    "* Al superar su tiempo de reproducción predefidino, el deddian dará a a luz un nuevo deddian siempre y cuando tenga la energía necesaria y esté en un ambiente adecuado. El nuevo deddian se deberá generar en una celda vecina vacía. Si no se cumple alguno de estos requisitos, no se generará ningún nuevo deddian.\n",
    "\n",
    "### Simulación\n",
    "* El planeta tenga un ancho y alto de 35 celdas.\n",
    "* Inicialmente, habrá 47 nonines y 15 deddians.\n",
    "* Todos los campos empiezan con 20 unidades de hierba.\n",
    "* La simulación se realizará durante 200 iteraciones.\n",
    "* Deberá visualizar la evolución del modelo."
   ]
  },
  {
   "cell_type": "code",
   "execution_count": null,
   "id": "b3e426db",
   "metadata": {},
   "outputs": [],
   "source": []
  }
 ],
 "metadata": {
  "kernelspec": {
   "display_name": "Python 3 (ipykernel)",
   "language": "python",
   "name": "python3"
  },
  "language_info": {
   "codemirror_mode": {
    "name": "ipython",
    "version": 3
   },
   "file_extension": ".py",
   "mimetype": "text/x-python",
   "name": "python",
   "nbconvert_exporter": "python",
   "pygments_lexer": "ipython3",
   "version": "3.8.12"
  }
 },
 "nbformat": 4,
 "nbformat_minor": 5
}
