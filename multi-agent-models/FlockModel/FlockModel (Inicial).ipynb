{
 "cells": [
  {
   "cell_type": "markdown",
   "id": "675c2372",
   "metadata": {},
   "source": [
    "# BirdFlock\n",
    "Este ejemplo pretende simular el comportamiento de una bandada de pájaros: cientos, o incluso miles, de pájaros volando juntos, formando formas infinitas como si fueran una sola entidad. Para el desarrollo de este ejemplo, nos basaremos en el trabajo presentado por [Rohola Zandie](https://betterprogramming.pub/boids-simulating-birds-flock-behavior-in-python-9fff99375118)."
   ]
  },
  {
   "cell_type": "markdown",
   "id": "3892e3f7",
   "metadata": {},
   "source": [
    "## ¿Cómo funciona el modelo?\n",
    "Una propuesta de solución a este problema fue presentado por Craig Reynolds cuando introdujo un sistema conocido como \"Boids\" que podía simular algo similar al comportamiento de bandadas de aves. Su modelo estable tres reglas simples:\n",
    "* **Separación**: La separación es necesaria para que nuestros individuos choquen entre sí y se estrellen. Cada individuos debe ver a sus propios compañeros de bandada locales y alejarse si están demasiado cerca.\n",
    "<center>\n",
    "<img src=\"https://miro.medium.com/max/217/1*vcc16ijg_e8lMOTRIhhm9w.gif\" />\n",
    "</center>\n",
    "* **Alineación**: Cada invidividuo solo ve a los individuos que están a su alrededor. Para la alineación, miramos los vecinos y calculamos su dirección promedio (que es parte del vector de velocidad) y seguimos eso.\n",
    "<center>\n",
    "<img src=\"https://miro.medium.com/max/217/1*e8AAGeLm9x0i6kkO4_Yenw.gif\" />\n",
    "</center>\n",
    "* **Cohesión**: Significa dirigirse hacia el centro de masa de los compañeros de bandada locales. Hacemos esto para forzar a que los individuos se peguen entre sí y no se dividan.\n",
    "<center>\n",
    "<img src=\"https://miro.medium.com/max/217/1*Au6eWj6jETcbVAbQWJR1-g.gif\" />\n",
    "</center>"
   ]
  },
  {
   "cell_type": "markdown",
   "id": "66f86ef7",
   "metadata": {},
   "source": [
    "A diferencia de otros ejemplos, no queremos realizar una animación basada en una matriz sino en objetos que se mueven libremente en un espacio bidimencional. "
   ]
  },
  {
   "cell_type": "markdown",
   "id": "d4c5db9b",
   "metadata": {},
   "source": [
    "## Imports"
   ]
  },
  {
   "cell_type": "code",
   "execution_count": 3,
   "id": "41bf92fe",
   "metadata": {},
   "outputs": [],
   "source": [
    "# Importamos las clases que se requieren para manejar los agentes (Agent) y su entorno (Model).\n",
    "# Cada modelo puede contener múltiples agentes.\n",
    "from mesa import Agent, Model \n",
    "\n",
    "# Con ''SimultaneousActivation, hacemos que todos los agentes se activen ''al azar''.\n",
    "from mesa.time import RandomActivation\n",
    "\n",
    "# Haremos uso de ''DataCollector'' para obtener información de cada paso de la simulación.\n",
    "from mesa.datacollection import DataCollector\n",
    "\n",
    "# matplotlib lo usaremos crear una animación de cada uno de los pasos del modelo.\n",
    "%matplotlib inline\n",
    "import matplotlib\n",
    "import matplotlib.pyplot as plt\n",
    "import matplotlib.animation as animation\n",
    "plt.rcParams[\"animation.html\"] = \"jshtml\"\n",
    "matplotlib.rcParams['animation.embed_limit'] = 2**128\n",
    "\n",
    "# Importamos los siguientes paquetes para el mejor manejo de valores numéricos.\n",
    "import numpy as np\n",
    "import pandas as pd\n",
    "\n",
    "# Definimos otros paquetes que vamos a usar para medir el tiempo de ejecución de nuestro algoritmo.\n",
    "import time\n",
    "import datetime"
   ]
  },
  {
   "cell_type": "code",
   "execution_count": null,
   "id": "eadd11db",
   "metadata": {},
   "outputs": [],
   "source": []
  }
 ],
 "metadata": {
  "kernelspec": {
   "display_name": "Python 3 (ipykernel)",
   "language": "python",
   "name": "python3"
  },
  "language_info": {
   "codemirror_mode": {
    "name": "ipython",
    "version": 3
   },
   "file_extension": ".py",
   "mimetype": "text/x-python",
   "name": "python",
   "nbconvert_exporter": "python",
   "pygments_lexer": "ipython3",
   "version": "3.9.7"
  }
 },
 "nbformat": 4,
 "nbformat_minor": 5
}
