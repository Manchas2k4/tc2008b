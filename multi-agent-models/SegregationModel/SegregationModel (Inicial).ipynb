{
 "cells": [
  {
   "cell_type": "markdown",
   "id": "4c20df8c",
   "metadata": {},
   "source": [
    "# Modelo de segregación de Schelling\n",
    "\n",
    "En 1969, Thomas C. Schelling desarrolló un modelo simple pero sorprendente de segregación racial. El modelo estudia la dinámica de los barrios mixtos. Este modelo muestra cómo las interacciones locales pueden conducir a comportamiento emergente sorprendente. En particular, muestra que una preferencia relativamente leve por veciones de características similares (raza, creencia, nivel económico, etc.) puede conducir, en conjunto, al colapso de vecindarios mixtos y altos niveles de segregación.\n",
    "\n",
    "En reconocimiento a esta y otras investigaciones, Schelling recibió el Premio Nobel de Ciencias Económicas 2005 (junto con Robert Aumann)."
   ]
  },
  {
   "cell_type": "markdown",
   "id": "c6f87b81",
   "metadata": {},
   "source": [
    "## ¿Cómo trabaja el modelo?\n",
    "Supón que hay dos tipos de agentes: X y O. Los dos tipos de agentes pueden representar diferentes razas, etnias, estatus económico, etc. Dos poblaciones de los dos tipos de agentes se colocan inicialmente en ubicaciones aleatorias de un vecindario representado por una cuadrícula. Después de colocar todos los agentes en la cuadrícula, cada celda está ocupada por un agente o está vacía, como se muestra a continuación.\n",
    "<center>\n",
    "<img src=\"http://nifty.stanford.edu/2014/mccown-schelling-model-segregation/images/grid1.png\" />\n",
    "</center>\n",
    "Ahora debemos determinar si cada agente está satisfecho con su ubicación actual. Un agente satisfecho es aquel que está rodeado por al menos un *t* por ciento de agentes que son como él. Este umbral *t* es el que se aplicará a todos los agentes del modelo, aunque en realidad todos pueden tener un umbral diferente con el que están satisfechos. Tenga en cuenta que cuanto mayor sea el umbral, mayor será la probabilidad de que los agentes no estén satisfechos con su ubicación actual.\n",
    "\n",
    "Por ejemplo, si *t* = 30%, el agente *X* está satisfecho si al menos el 30% de sus vecinos también son *X*. Si menos del 30% son *X*, entonces el agente no está satisfecho y querrá cambiar su ubicación en la cuadrícula. Para el resto de esta explicación, supongamos un umbral *t* del 30%. Esto significa que a todos los agentes les parece bien estar en minoría siempre que haya al menos un 30% de agentes similares en las celdas adyacentes.\n",
    "\n",
    "La imagen de abajo (izquierda) muestra un agente satisfecho porque el 50% de los vecinos de X también son X (50%> t). La siguiente X (derecha) no se satisface porque solo el 25% de sus vecinos son X (25% <t). Observe que en este ejemplo las celdas vacías no se cuentan al calcular la similitud.\n",
    "<center>\n",
    "<img src=\"http://nifty.stanford.edu/2014/mccown-schelling-model-segregation/images/grid2.png\" />\n",
    "</center>\n",
    "Cuando un agente no está satisfecho, se puede trasladar a cualquier lugar vacante en la cuadrícula. Se puede utilizar cualquier algoritmo para elegir esta nueva ubicación. Por ejemplo, se puede elegir una celda seleccionada al azar, o el agente se puede mover a la ubicación disponible más cercana.\n",
    "\n",
    "En la imagen de abajo (izquierda), todos los agentes insatisfechos tienen un asterisco junto a ellos. La imagen de la derecha muestra la nueva configuración después de que todos los agentes insatisfechos se hayan movido al azar a celdas desocupadas. Tenga en cuenta que la nueva configuración puede hacer que algunos agentes que estaban satisfechos anteriormente se sientan insatisfechos.\n",
    "<center>\n",
    "<img src=\"http://nifty.stanford.edu/2014/mccown-schelling-model-segregation/images/grid4.png\" />\n",
    "</center>\n",
    "Todos los agentes insatisfechos deben moverse en la misma ronda. Una vez completada la ronda, comienza una nueva ronda y los agentes insatisfechos se trasladan una vez más a nuevas ubicaciones en la cuadrícula. Estas rondas continúan hasta que todos los agentes del vecindario estén satisfechos con su ubicación.\n",
    "\n",
    "<p style='text-align: right;'> Fuente: <a href=\"http://nifty.stanford.edu/2014/mccown-schelling-model-segregation/\">Schelling's Model of Segregation</a></p>"
   ]
  },
  {
   "cell_type": "markdown",
   "id": "f2104f9b",
   "metadata": {},
   "source": [
    "## Imports\n",
    "\n",
    "Antes de empezar a crear el modelo del juego de la vida con multiagentes es necesario tener instalado los siguientes paquetes:\n",
    "- `python`: asegúrense de usar la versión 3+.\n",
    "- `mesa`: el framework de Python para el modelado de agentes.\n",
    "- `numpy`: es una biblioteca de Python para el manejo de matrices, arreglos, manipulación matemática, lógica y mucho más.\n",
    "- `matplotlib`: es una biblioteca para crear visualizaciones estáticas, animadas e interactivas en Python.\n",
    "\n",
    "Para poder modelar el juego de la vida usando el framework de `mesa` es necesario importar dos clases: una para el modelo general, y otro para los agentes."
   ]
  },
  {
   "cell_type": "code",
   "execution_count": 5,
   "id": "4642ce36",
   "metadata": {},
   "outputs": [],
   "source": [
    "# Importamos las clases que se requieren para manejar los agentes (Agent) y su entorno (Model).\n",
    "# Cada modelo puede contener múltiples agentes.\n",
    "from mesa import Agent, Model \n",
    "\n",
    "# Debido a que necesitamos que existe un solo agente por celda, elegimos ''SingleGrid''.\n",
    "from mesa.space import SingleGrid\n",
    "\n",
    "# Con ''RandomActivation'', hacemos que todos los agentes se activen ''al mismo tiempo''.\n",
    "from mesa.time import RandomActivation\n",
    "\n",
    "# Haremos uso de ''DataCollector'' para obtener información de cada paso de la simulación.\n",
    "from mesa.datacollection import DataCollector\n",
    "\n",
    "# matplotlib lo usaremos crear una animación de cada uno de los pasos del modelo.\n",
    "%matplotlib inline\n",
    "import matplotlib\n",
    "import matplotlib.pyplot as plt\n",
    "import matplotlib.animation as animation\n",
    "plt.rcParams[\"animation.html\"] = \"jshtml\"\n",
    "matplotlib.rcParams['animation.embed_limit'] = 2**128\n",
    "\n",
    "# Importamos los siguientes paquetes para el mejor manejo de valores numéricos.\n",
    "import numpy as np\n",
    "import pandas as pd\n",
    "\n",
    "# Definimos otros paquetes que vamos a usar para medir el tiempo de ejecución de nuestro algoritmo.\n",
    "import time\n",
    "import datetime"
   ]
  }
 ],
 "metadata": {
  "kernelspec": {
   "display_name": "Python 3 (ipykernel)",
   "language": "python",
   "name": "python3"
  },
  "language_info": {
   "codemirror_mode": {
    "name": "ipython",
    "version": 3
   },
   "file_extension": ".py",
   "mimetype": "text/x-python",
   "name": "python",
   "nbconvert_exporter": "python",
   "pygments_lexer": "ipython3",
   "version": "3.8.12"
  }
 },
 "nbformat": 4,
 "nbformat_minor": 5
}
