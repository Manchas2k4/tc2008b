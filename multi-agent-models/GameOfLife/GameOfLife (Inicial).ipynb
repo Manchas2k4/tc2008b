{
 "cells": [
  {
   "cell_type": "markdown",
   "id": "9c15b2d4",
   "metadata": {},
   "source": [
    "# Juego de la Vida (Game of Life)\n",
    "El **Juego de la Vida**, también conocido como **Vida**, es un autómata celular diseñador por el matemático británico John Horton Conway en 1970. Es un juego sin jugadores, esto significa que su evolución está determinada por su estado inicial, sin requerir más entradas. Uno interactúa con el Juego de la Vida al crear un estado inicial (o configuración inicial) y se observa como evoluciona. Es Turing completo (puede simular cualquier máquina de Turing) y puede simular un constructor universal o cualquier otra máquina de Turing.\n",
    "<center>\n",
    "<img src=\"https://1.bp.blogspot.com/-pdQ2ckeQzCw/WwGFbYTKRoI/AAAAAAAAAY8/kb-gcutnkKc2TnQainAlYK5FlWmv87XywCPcBGAYYCw/s1600/ezgif.com-video-to-gif.gif\" width=250 height=250 />\n",
    "</center>"
   ]
  },
  {
   "cell_type": "markdown",
   "id": "db668ec0",
   "metadata": {},
   "source": [
    "## Reglas\n",
    "\n",
    "El universo (o entorno) del Juego de la Vida es infinito, cuadrícula ortogonal bidimensional de celdas cuadradas, cada una de ellas se encuentra con uno de dos posibles estados, vivo o muerto (o poblado o despoblado, respectivamente). Cada celda interactúa con ocho vecinos, que son las celdas adyacentes horizontales, verticales y diagonales. En cada paso de tiempo, las siguientes transiciones ocurren:\n",
    "\n",
    "1. Cualquier celda viva con menos de dos vecinos vivos muere, debido a la poca población.\n",
    "2. Cualquier celda viva con dos o tres vecinos vivos sobrevive para la siguiente generación.\n",
    "3. Cualquier celda con más de tres vecinos vivos muere, debido a sobre población.\n",
    "4. Cualquier celda muerta con exactamente tres vecinos vivos se convierte en una celda viva, debido a la reproducción.\n",
    "\n",
    "Estas reglas, que comparan el comportamiento del autómata a la vida real, pueden ser condensadas en lo siguiente:\n",
    "\n",
    "1. Cualquier celda viva con dos o más vecinos vivos sobrevive.\n",
    "2. Cualquier celda muerta con tres vecinos vivos se convierte en una celda viva.\n",
    "3. Cualquier otra celda viva muere en la siguiente generación. De manera similar, cualquier otra celda muerta se queda muerta.\n",
    "\n",
    "El patrón inicial constituye la semilla del sistema. La primera generación es creada al aplicar las reglas anteriores de manera simultanea a cualquier celda en la semilla, viva o muerta; nacimientos y muertes ocurren simultáneamente, y el momento discreto en el cual esto pasa es a veces llamado turno. Cada generación es una función pura de la anterior. Las reglas se aplican de forma repetida para crear nuevas generaciones."
   ]
  },
  {
   "cell_type": "markdown",
   "id": "46bc3dbf",
   "metadata": {},
   "source": [
    "## Imports\n",
    "\n",
    "Antes de empezar a crear el modelo del juego de la vida con multiagentes es necesario tener instalado los siguientes paquetes:\n",
    "- `python`: asegúrense de usar la versión 3+.\n",
    "- `mesa`: el framework de Python para el modelado de agentes.\n",
    "- `numpy`: es una biblioteca de Python para el manejo de matrices, arreglos, manipulación matemática, lógica y mucho más.\n",
    "- `matplotlib`: es una biblioteca para crear visualizaciones estáticas, animadas e interactivas en Python.\n",
    "\n",
    "Para poder modelar el juego de la vida usando el framework de `mesa` es necesario importar dos clases: una para el modelo general, y otro para los agentes."
   ]
  },
  {
   "cell_type": "code",
   "execution_count": null,
   "id": "a16e3a65",
   "metadata": {},
   "outputs": [],
   "source": [
    "# Importamos las clases que se requieren para manejar los agentes (Agent) y su entorno (Model).\n",
    "# Cada modelo puede contener múltiples agentes.\n",
    "from mesa import Agent, Model \n",
    "\n",
    "# Debido a que necesitamos que existe un solo agente por celda, elegimos ''SingleGrid''.\n",
    "from mesa.space import SingleGrid\n",
    "\n",
    "# Con ''SimultaneousActivation, hacemos que todos los agentes se activen ''al mismo tiempo''.\n",
    "from mesa.time import SimultaneousActivation\n",
    "\n",
    "# Haremos uso de ''DataCollector'' para obtener información de cada paso de la simulación.\n",
    "from mesa.datacollection import DataCollector\n",
    "\n",
    "# matplotlib lo usaremos crear una animación de cada uno de los pasos del modelo.\n",
    "%matplotlib inline\n",
    "import matplotlib\n",
    "import matplotlib.pyplot as plt\n",
    "import matplotlib.animation as animation\n",
    "plt.rcParams[\"animation.html\"] = \"jshtml\"\n",
    "matplotlib.rcParams['animation.embed_limit'] = 2**128\n",
    "\n",
    "# Importamos los siguientes paquetes para el mejor manejo de valores numéricos.\n",
    "import numpy as np\n",
    "import pandas as pd\n",
    "\n",
    "# Definimos otros paquetes que vamos a usar para medir el tiempo de ejecución de nuestro algoritmo.\n",
    "import time\n",
    "import datetime"
   ]
  }
 ],
 "metadata": {
  "kernelspec": {
   "display_name": "Python 3 (ipykernel)",
   "language": "python",
   "name": "python3"
  },
  "language_info": {
   "codemirror_mode": {
    "name": "ipython",
    "version": 3
   },
   "file_extension": ".py",
   "mimetype": "text/x-python",
   "name": "python",
   "nbconvert_exporter": "python",
   "pygments_lexer": "ipython3",
   "version": "3.8.12"
  }
 },
 "nbformat": 4,
 "nbformat_minor": 5
}
